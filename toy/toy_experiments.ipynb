{
 "cells": [
  {
   "cell_type": "code",
   "execution_count": 1,
   "metadata": {},
   "outputs": [],
   "source": [
    "from reproducibility.reproducibility import *"
   ]
  },
  {
   "attachments": {},
   "cell_type": "markdown",
   "metadata": {},
   "source": [
    "### Training"
   ]
  },
  {
   "cell_type": "code",
   "execution_count": 4,
   "metadata": {},
   "outputs": [
    {
     "name": "stdout",
     "output_type": "stream",
     "text": [
      "\n",
      "Args: Namespace(data_dir='custom_dataset', log_dir='../reproducibility/custom_dataset\\\\model', config=None, task='synthetic', wandb_entity=None, group_name=None, wandb_mode='online', job_type='dev-train', online=False, dataset='custom_dataset', n_samples=10000, train_bs=32, val_bs=8, transform=None, split_fracs=[0.8, 0.1, 0.1], num_workers=1, in_dim=30, out_dim=30, timestep_emb_dim=32, h_dim=64, n_layers=2, activation='silu', dropout_p=0.1, run_name='pvvkyhqwe', n_epochs=1, use_grad_noise=False, drift_weight=1.0, reg_weight=1.0, reg_weight_T=1.0, reg_weight_t=1.0, diffusivity_schedule='constant', max_diffusivity=0.7, use_drift_in_doobs=True, optim_name='adamw', lr=0.001, weight_decay=0.001, grad_clip_value=10.0, scheduler='plateau', scheduler_mode='min', scheduler_patience=10, ema_decay_rate=0.999, log_every=1000, eval_every=10000, inference_every=0, inference_steps=100, inference_metric='val_rmsd', inference_goal='min', early_stop_metric='val_loss', early_stop_goal='min')\n",
      "\n",
      "Experiment Name: pvvkyhqwe\n",
      "\n",
      "Num Train: 10000, Num Valid: 8985\n",
      "Train loader inspection: tensor([-2.7638e-02,  9.3648e-02, -2.0992e-03, -2.0652e-02,  1.3975e-01,\n",
      "        -3.7381e-02, -7.2187e-03,  5.7157e-02,  8.4878e-03, -7.2703e-02,\n",
      "        -6.3581e-01, -3.0402e-02,  2.6694e-03, -9.7501e-01,  3.1413e-02,\n",
      "        -1.6355e-01, -9.2341e-02, -8.5728e-02, -1.5929e-01, -3.4812e-01,\n",
      "        -2.4049e-01, -1.3262e-01, -2.1414e-01, -2.4152e-01, -4.7144e-02,\n",
      "        -2.9175e+00, -1.0611e-01, -1.8461e-01, -2.9300e+00, -1.2649e-01])\n",
      "Val loader inspection: tensor([-2.5836e-02,  9.5101e-02,  1.6293e-03, -2.2743e-02,  1.3762e-01,\n",
      "        -4.0363e-02, -4.7399e-03,  6.0931e-02,  4.2703e-03, -7.3525e-02,\n",
      "        -6.2129e-01, -3.1063e-02,  2.8367e-03, -9.4157e-01,  2.6018e-02,\n",
      "        -1.6019e-01, -8.6896e-02, -8.2482e-02, -1.5157e-01, -3.4553e-01,\n",
      "        -2.3555e-01, -1.2799e-01, -2.1252e-01, -2.3659e-01, -4.3824e-02,\n",
      "        -2.8916e+00, -1.0036e-01, -1.7964e-01, -2.9168e+00, -1.2247e-01])\n",
      "\n",
      "Model with 0.065916M parameters\n"
     ]
    },
    {
     "name": "stdout",
     "output_type": "stream",
     "text": [
      "\n",
      "Saved model config to ../reproducibility/custom_dataset\\model\\pvvkyhqwe\\config_train.yml\n",
      "\n",
      "Training model for 1 epochs...\n",
      "Epoch 1: Training Loss: 0.1612 bb_loss 0.0748 reg_loss_T 0.0258 reg_loss_t 0.0606 \n",
      "Epoch 1: Validation Loss: 0.0727 bb_loss 0.0708 reg_loss_T 0.0001 reg_loss_t 0.0018 \n",
      "\n",
      "After best validation, saving model to ../reproducibility/custom_dataset\\model\\pvvkyhqwe\\best_model.pt\n",
      "After best validation, saving ema to ../reproducibility/custom_dataset\\model\\pvvkyhqwe\\best_ema_model.pt\n",
      "\n",
      "Saving last model to ../reproducibility/custom_dataset\\model\\pvvkyhqwe/last_model.pt\n",
      "\n",
      "Best Validation Loss 0.0727 on Epoch 0\n",
      "Best Inference Metric inf on Epoch 0\n"
     ]
    },
    {
     "data": {
      "text/plain": [
       "<reproducibility.reproducibility.AlignExperiment at 0x224632aee20>"
      ]
     },
     "execution_count": 4,
     "metadata": {},
     "output_type": "execute_result"
    }
   ],
   "source": [
    "AlignExperiment.run(\"--dataset=custom_dataset  --h_dim=64  --n_layers=2  --n_epochs=1  --reg_weight=1.  --timestep_emb_dim=32  --in_dim=30 --out_dim=30  --diffusivity_schedule=constant  --max_diffusivity=.7 --use_drift_in_doobs=True  --activation=silu\").save(\"custom_model\")"
   ]
  },
  {
   "attachments": {},
   "cell_type": "markdown",
   "metadata": {},
   "source": [
    "### Inference"
   ]
  },
  {
   "cell_type": "code",
   "execution_count": 3,
   "metadata": {},
   "outputs": [
    {
     "name": "stdout",
     "output_type": "stream",
     "text": [
      "Args: {'data_dir': 'custom_dataset', 'log_dir': '../reproducibility/custom_dataset\\\\model', 'config': None, 'task': 'synthetic', 'wandb_entity': None, 'group_name': None, 'wandb_mode': 'online', 'job_type': 'dev-train', 'online': False, 'dataset': 'custom_dataset', 'n_samples': 10000, 'train_bs': 32, 'val_bs': 8, 'transform': None, 'split_fracs': [0.8, 0.1, 0.1], 'num_workers': 1, 'in_dim': 50, 'out_dim': 50, 'timestep_emb_dim': 32, 'h_dim': 64, 'n_layers': 2, 'activation': 'silu', 'dropout_p': 0.1, 'run_name': 'larwhjlke', 'n_epochs': 1, 'use_grad_noise': False, 'drift_weight': 1.0, 'reg_weight': 1.0, 'reg_weight_T': 1.0, 'reg_weight_t': 1.0, 'diffusivity_schedule': 'constant', 'max_diffusivity': 0.7, 'use_drift_in_doobs': True, 'optim_name': 'adamw', 'lr': 0.001, 'weight_decay': 0.001, 'grad_clip_value': 10.0, 'scheduler': 'plateau', 'scheduler_mode': 'min', 'scheduler_patience': 10, 'ema_decay_rate': 0.999, 'log_every': 1000, 'eval_every': 10000, 'inference_every': 0, 'inference_steps': 100, 'inference_metric': 'val_rmsd', 'inference_goal': 'min', 'early_stop_metric': 'val_loss', 'early_stop_goal': 'min'}\n"
     ]
    }
   ],
   "source": [
    "model = AlignExperiment.load(\"custom_model\")"
   ]
  }
 ],
 "metadata": {
  "kernelspec": {
   "display_name": "sb_paired",
   "language": "python",
   "name": "python3"
  },
  "language_info": {
   "codemirror_mode": {
    "name": "ipython",
    "version": 3
   },
   "file_extension": ".py",
   "mimetype": "text/x-python",
   "name": "python",
   "nbconvert_exporter": "python",
   "pygments_lexer": "ipython3",
   "version": "3.9.18"
  },
  "orig_nbformat": 4,
  "vscode": {
   "interpreter": {
    "hash": "ce7fff70e1aaa9edb956fb4bc3b20720de0ee8403a714c2729fb46782322bd26"
   }
  }
 },
 "nbformat": 4,
 "nbformat_minor": 2
}
